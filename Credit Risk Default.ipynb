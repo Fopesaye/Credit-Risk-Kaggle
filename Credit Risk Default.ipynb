{
  "nbformat": 4,
  "nbformat_minor": 0,
  "metadata": {
    "colab": {
      "provenance": []
    },
    "kernelspec": {
      "name": "python3",
      "display_name": "Python 3"
    },
    "language_info": {
      "name": "python"
    },
    "accelerator": "GPU",
    "gpuClass": "standard"
  },
  "cells": [
    {
      "cell_type": "code",
      "execution_count": null,
      "metadata": {
        "colab": {
          "base_uri": "https://localhost:8080/",
          "height": 146
        },
        "id": "I2LDl2pmv5fp",
        "outputId": "716ad367-2361-4695-8ab6-cc29f70c4b39"
      },
      "outputs": [
        {
          "output_type": "display_data",
          "data": {
            "text/plain": [
              "<IPython.core.display.HTML object>"
            ],
            "text/html": [
              "\n",
              "     <input type=\"file\" id=\"files-1fbcf048-cb33-452f-aa41-971edcd4f385\" name=\"files[]\" multiple disabled\n",
              "        style=\"border:none\" />\n",
              "     <output id=\"result-1fbcf048-cb33-452f-aa41-971edcd4f385\">\n",
              "      Upload widget is only available when the cell has been executed in the\n",
              "      current browser session. Please rerun this cell to enable.\n",
              "      </output>\n",
              "      <script>// Copyright 2017 Google LLC\n",
              "//\n",
              "// Licensed under the Apache License, Version 2.0 (the \"License\");\n",
              "// you may not use this file except in compliance with the License.\n",
              "// You may obtain a copy of the License at\n",
              "//\n",
              "//      http://www.apache.org/licenses/LICENSE-2.0\n",
              "//\n",
              "// Unless required by applicable law or agreed to in writing, software\n",
              "// distributed under the License is distributed on an \"AS IS\" BASIS,\n",
              "// WITHOUT WARRANTIES OR CONDITIONS OF ANY KIND, either express or implied.\n",
              "// See the License for the specific language governing permissions and\n",
              "// limitations under the License.\n",
              "\n",
              "/**\n",
              " * @fileoverview Helpers for google.colab Python module.\n",
              " */\n",
              "(function(scope) {\n",
              "function span(text, styleAttributes = {}) {\n",
              "  const element = document.createElement('span');\n",
              "  element.textContent = text;\n",
              "  for (const key of Object.keys(styleAttributes)) {\n",
              "    element.style[key] = styleAttributes[key];\n",
              "  }\n",
              "  return element;\n",
              "}\n",
              "\n",
              "// Max number of bytes which will be uploaded at a time.\n",
              "const MAX_PAYLOAD_SIZE = 100 * 1024;\n",
              "\n",
              "function _uploadFiles(inputId, outputId) {\n",
              "  const steps = uploadFilesStep(inputId, outputId);\n",
              "  const outputElement = document.getElementById(outputId);\n",
              "  // Cache steps on the outputElement to make it available for the next call\n",
              "  // to uploadFilesContinue from Python.\n",
              "  outputElement.steps = steps;\n",
              "\n",
              "  return _uploadFilesContinue(outputId);\n",
              "}\n",
              "\n",
              "// This is roughly an async generator (not supported in the browser yet),\n",
              "// where there are multiple asynchronous steps and the Python side is going\n",
              "// to poll for completion of each step.\n",
              "// This uses a Promise to block the python side on completion of each step,\n",
              "// then passes the result of the previous step as the input to the next step.\n",
              "function _uploadFilesContinue(outputId) {\n",
              "  const outputElement = document.getElementById(outputId);\n",
              "  const steps = outputElement.steps;\n",
              "\n",
              "  const next = steps.next(outputElement.lastPromiseValue);\n",
              "  return Promise.resolve(next.value.promise).then((value) => {\n",
              "    // Cache the last promise value to make it available to the next\n",
              "    // step of the generator.\n",
              "    outputElement.lastPromiseValue = value;\n",
              "    return next.value.response;\n",
              "  });\n",
              "}\n",
              "\n",
              "/**\n",
              " * Generator function which is called between each async step of the upload\n",
              " * process.\n",
              " * @param {string} inputId Element ID of the input file picker element.\n",
              " * @param {string} outputId Element ID of the output display.\n",
              " * @return {!Iterable<!Object>} Iterable of next steps.\n",
              " */\n",
              "function* uploadFilesStep(inputId, outputId) {\n",
              "  const inputElement = document.getElementById(inputId);\n",
              "  inputElement.disabled = false;\n",
              "\n",
              "  const outputElement = document.getElementById(outputId);\n",
              "  outputElement.innerHTML = '';\n",
              "\n",
              "  const pickedPromise = new Promise((resolve) => {\n",
              "    inputElement.addEventListener('change', (e) => {\n",
              "      resolve(e.target.files);\n",
              "    });\n",
              "  });\n",
              "\n",
              "  const cancel = document.createElement('button');\n",
              "  inputElement.parentElement.appendChild(cancel);\n",
              "  cancel.textContent = 'Cancel upload';\n",
              "  const cancelPromise = new Promise((resolve) => {\n",
              "    cancel.onclick = () => {\n",
              "      resolve(null);\n",
              "    };\n",
              "  });\n",
              "\n",
              "  // Wait for the user to pick the files.\n",
              "  const files = yield {\n",
              "    promise: Promise.race([pickedPromise, cancelPromise]),\n",
              "    response: {\n",
              "      action: 'starting',\n",
              "    }\n",
              "  };\n",
              "\n",
              "  cancel.remove();\n",
              "\n",
              "  // Disable the input element since further picks are not allowed.\n",
              "  inputElement.disabled = true;\n",
              "\n",
              "  if (!files) {\n",
              "    return {\n",
              "      response: {\n",
              "        action: 'complete',\n",
              "      }\n",
              "    };\n",
              "  }\n",
              "\n",
              "  for (const file of files) {\n",
              "    const li = document.createElement('li');\n",
              "    li.append(span(file.name, {fontWeight: 'bold'}));\n",
              "    li.append(span(\n",
              "        `(${file.type || 'n/a'}) - ${file.size} bytes, ` +\n",
              "        `last modified: ${\n",
              "            file.lastModifiedDate ? file.lastModifiedDate.toLocaleDateString() :\n",
              "                                    'n/a'} - `));\n",
              "    const percent = span('0% done');\n",
              "    li.appendChild(percent);\n",
              "\n",
              "    outputElement.appendChild(li);\n",
              "\n",
              "    const fileDataPromise = new Promise((resolve) => {\n",
              "      const reader = new FileReader();\n",
              "      reader.onload = (e) => {\n",
              "        resolve(e.target.result);\n",
              "      };\n",
              "      reader.readAsArrayBuffer(file);\n",
              "    });\n",
              "    // Wait for the data to be ready.\n",
              "    let fileData = yield {\n",
              "      promise: fileDataPromise,\n",
              "      response: {\n",
              "        action: 'continue',\n",
              "      }\n",
              "    };\n",
              "\n",
              "    // Use a chunked sending to avoid message size limits. See b/62115660.\n",
              "    let position = 0;\n",
              "    do {\n",
              "      const length = Math.min(fileData.byteLength - position, MAX_PAYLOAD_SIZE);\n",
              "      const chunk = new Uint8Array(fileData, position, length);\n",
              "      position += length;\n",
              "\n",
              "      const base64 = btoa(String.fromCharCode.apply(null, chunk));\n",
              "      yield {\n",
              "        response: {\n",
              "          action: 'append',\n",
              "          file: file.name,\n",
              "          data: base64,\n",
              "        },\n",
              "      };\n",
              "\n",
              "      let percentDone = fileData.byteLength === 0 ?\n",
              "          100 :\n",
              "          Math.round((position / fileData.byteLength) * 100);\n",
              "      percent.textContent = `${percentDone}% done`;\n",
              "\n",
              "    } while (position < fileData.byteLength);\n",
              "  }\n",
              "\n",
              "  // All done.\n",
              "  yield {\n",
              "    response: {\n",
              "      action: 'complete',\n",
              "    }\n",
              "  };\n",
              "}\n",
              "\n",
              "scope.google = scope.google || {};\n",
              "scope.google.colab = scope.google.colab || {};\n",
              "scope.google.colab._files = {\n",
              "  _uploadFiles,\n",
              "  _uploadFilesContinue,\n",
              "};\n",
              "})(self);\n",
              "</script> "
            ]
          },
          "metadata": {}
        },
        {
          "output_type": "stream",
          "name": "stdout",
          "text": [
            "Saving kaggle.json to kaggle.json\n",
            "Warning: Your Kaggle API key is readable by other users on this system! To fix this, you can run 'chmod 600 /root/.kaggle/kaggle.json'\n",
            "Downloading credit-risk-dataset.zip to /content\n",
            "  0% 0.00/368k [00:00<?, ?B/s]\n",
            "100% 368k/368k [00:00<00:00, 111MB/s]\n"
          ]
        }
      ],
      "source": [
        "# connecting to Kaggle's API using Google Colab\n",
        "from google.colab import files\n",
        "files.upload()\n",
        "\n",
        "!mkdir -p ~/.kaggle\n",
        "!cp kaggle.json ~/.kaggle/\n",
        "\n",
        "# downloading dataset as Zip in colab\n",
        "!kaggle datasets download -d laotse/credit-risk-dataset"
      ]
    },
    {
      "cell_type": "code",
      "source": [
        "# unzipping file\n",
        "!unzip -q \"/content/credit-risk-dataset.zip\""
      ],
      "metadata": {
        "id": "gek_0QuewaOh"
      },
      "execution_count": null,
      "outputs": []
    },
    {
      "cell_type": "code",
      "source": [
        "# importing necessary libraries\n",
        "import pandas as pd\n",
        "import numpy as np\n",
        "import seaborn as sns\n",
        "import matplotlib.pyplot as plt\n",
        "from sklearn.model_selection import train_test_split\n",
        "from sklearn.preprocessing import StandardScaler"
      ],
      "metadata": {
        "id": "AhLADbvCwqDj"
      },
      "execution_count": null,
      "outputs": []
    },
    {
      "cell_type": "code",
      "source": [
        "# reading CSV file into pandas dataframe\n",
        "df = pd.read_csv(\"/content/credit_risk_dataset.csv\")"
      ],
      "metadata": {
        "id": "yy27YeaUw1Dr"
      },
      "execution_count": null,
      "outputs": []
    },
    {
      "cell_type": "code",
      "source": [
        "# checking for null values (first attempt)\n",
        "df.isna().sum()"
      ],
      "metadata": {
        "colab": {
          "base_uri": "https://localhost:8080/"
        },
        "id": "A4cG2QK9w4Gr",
        "outputId": "00d3d919-fe53-436d-85fe-bb7fde2a95c2"
      },
      "execution_count": null,
      "outputs": [
        {
          "output_type": "execute_result",
          "data": {
            "text/plain": [
              "person_age                       0\n",
              "person_income                    0\n",
              "person_home_ownership            0\n",
              "person_emp_length              895\n",
              "loan_intent                      0\n",
              "loan_grade                       0\n",
              "loan_amnt                        0\n",
              "loan_int_rate                 3116\n",
              "loan_status                      0\n",
              "loan_percent_income              0\n",
              "cb_person_default_on_file        0\n",
              "cb_person_cred_hist_length       0\n",
              "dtype: int64"
            ]
          },
          "metadata": {},
          "execution_count": 6
        }
      ]
    },
    {
      "cell_type": "code",
      "source": [
        "# creating a copy in case needed\n",
        "df1 = df.copy()\n",
        "df"
      ],
      "metadata": {
        "colab": {
          "base_uri": "https://localhost:8080/",
          "height": 487
        },
        "id": "0WT5aIy2w5YS",
        "outputId": "1aeafe06-db57-4c8a-976f-447996a483cb"
      },
      "execution_count": null,
      "outputs": [
        {
          "output_type": "execute_result",
          "data": {
            "text/plain": [
              "       person_age  person_income person_home_ownership  person_emp_length  \\\n",
              "0              22          59000                  RENT              123.0   \n",
              "1              21           9600                   OWN                5.0   \n",
              "2              25           9600              MORTGAGE                1.0   \n",
              "3              23          65500                  RENT                4.0   \n",
              "4              24          54400                  RENT                8.0   \n",
              "...           ...            ...                   ...                ...   \n",
              "32576          57          53000              MORTGAGE                1.0   \n",
              "32577          54         120000              MORTGAGE                4.0   \n",
              "32578          65          76000                  RENT                3.0   \n",
              "32579          56         150000              MORTGAGE                5.0   \n",
              "32580          66          42000                  RENT                2.0   \n",
              "\n",
              "           loan_intent loan_grade  loan_amnt  loan_int_rate  loan_status  \\\n",
              "0             PERSONAL          D      35000          16.02            1   \n",
              "1            EDUCATION          B       1000          11.14            0   \n",
              "2              MEDICAL          C       5500          12.87            1   \n",
              "3              MEDICAL          C      35000          15.23            1   \n",
              "4              MEDICAL          C      35000          14.27            1   \n",
              "...                ...        ...        ...            ...          ...   \n",
              "32576         PERSONAL          C       5800          13.16            0   \n",
              "32577         PERSONAL          A      17625           7.49            0   \n",
              "32578  HOMEIMPROVEMENT          B      35000          10.99            1   \n",
              "32579         PERSONAL          B      15000          11.48            0   \n",
              "32580          MEDICAL          B       6475           9.99            0   \n",
              "\n",
              "       loan_percent_income cb_person_default_on_file  \\\n",
              "0                     0.59                         Y   \n",
              "1                     0.10                         N   \n",
              "2                     0.57                         N   \n",
              "3                     0.53                         N   \n",
              "4                     0.55                         Y   \n",
              "...                    ...                       ...   \n",
              "32576                 0.11                         N   \n",
              "32577                 0.15                         N   \n",
              "32578                 0.46                         N   \n",
              "32579                 0.10                         N   \n",
              "32580                 0.15                         N   \n",
              "\n",
              "       cb_person_cred_hist_length  \n",
              "0                               3  \n",
              "1                               2  \n",
              "2                               3  \n",
              "3                               2  \n",
              "4                               4  \n",
              "...                           ...  \n",
              "32576                          30  \n",
              "32577                          19  \n",
              "32578                          28  \n",
              "32579                          26  \n",
              "32580                          30  \n",
              "\n",
              "[32581 rows x 12 columns]"
            ],
            "text/html": [
              "\n",
              "  <div id=\"df-8d3ac1c2-e024-4bcb-b15e-64bd4f3d6ab7\">\n",
              "    <div class=\"colab-df-container\">\n",
              "      <div>\n",
              "<style scoped>\n",
              "    .dataframe tbody tr th:only-of-type {\n",
              "        vertical-align: middle;\n",
              "    }\n",
              "\n",
              "    .dataframe tbody tr th {\n",
              "        vertical-align: top;\n",
              "    }\n",
              "\n",
              "    .dataframe thead th {\n",
              "        text-align: right;\n",
              "    }\n",
              "</style>\n",
              "<table border=\"1\" class=\"dataframe\">\n",
              "  <thead>\n",
              "    <tr style=\"text-align: right;\">\n",
              "      <th></th>\n",
              "      <th>person_age</th>\n",
              "      <th>person_income</th>\n",
              "      <th>person_home_ownership</th>\n",
              "      <th>person_emp_length</th>\n",
              "      <th>loan_intent</th>\n",
              "      <th>loan_grade</th>\n",
              "      <th>loan_amnt</th>\n",
              "      <th>loan_int_rate</th>\n",
              "      <th>loan_status</th>\n",
              "      <th>loan_percent_income</th>\n",
              "      <th>cb_person_default_on_file</th>\n",
              "      <th>cb_person_cred_hist_length</th>\n",
              "    </tr>\n",
              "  </thead>\n",
              "  <tbody>\n",
              "    <tr>\n",
              "      <th>0</th>\n",
              "      <td>22</td>\n",
              "      <td>59000</td>\n",
              "      <td>RENT</td>\n",
              "      <td>123.0</td>\n",
              "      <td>PERSONAL</td>\n",
              "      <td>D</td>\n",
              "      <td>35000</td>\n",
              "      <td>16.02</td>\n",
              "      <td>1</td>\n",
              "      <td>0.59</td>\n",
              "      <td>Y</td>\n",
              "      <td>3</td>\n",
              "    </tr>\n",
              "    <tr>\n",
              "      <th>1</th>\n",
              "      <td>21</td>\n",
              "      <td>9600</td>\n",
              "      <td>OWN</td>\n",
              "      <td>5.0</td>\n",
              "      <td>EDUCATION</td>\n",
              "      <td>B</td>\n",
              "      <td>1000</td>\n",
              "      <td>11.14</td>\n",
              "      <td>0</td>\n",
              "      <td>0.10</td>\n",
              "      <td>N</td>\n",
              "      <td>2</td>\n",
              "    </tr>\n",
              "    <tr>\n",
              "      <th>2</th>\n",
              "      <td>25</td>\n",
              "      <td>9600</td>\n",
              "      <td>MORTGAGE</td>\n",
              "      <td>1.0</td>\n",
              "      <td>MEDICAL</td>\n",
              "      <td>C</td>\n",
              "      <td>5500</td>\n",
              "      <td>12.87</td>\n",
              "      <td>1</td>\n",
              "      <td>0.57</td>\n",
              "      <td>N</td>\n",
              "      <td>3</td>\n",
              "    </tr>\n",
              "    <tr>\n",
              "      <th>3</th>\n",
              "      <td>23</td>\n",
              "      <td>65500</td>\n",
              "      <td>RENT</td>\n",
              "      <td>4.0</td>\n",
              "      <td>MEDICAL</td>\n",
              "      <td>C</td>\n",
              "      <td>35000</td>\n",
              "      <td>15.23</td>\n",
              "      <td>1</td>\n",
              "      <td>0.53</td>\n",
              "      <td>N</td>\n",
              "      <td>2</td>\n",
              "    </tr>\n",
              "    <tr>\n",
              "      <th>4</th>\n",
              "      <td>24</td>\n",
              "      <td>54400</td>\n",
              "      <td>RENT</td>\n",
              "      <td>8.0</td>\n",
              "      <td>MEDICAL</td>\n",
              "      <td>C</td>\n",
              "      <td>35000</td>\n",
              "      <td>14.27</td>\n",
              "      <td>1</td>\n",
              "      <td>0.55</td>\n",
              "      <td>Y</td>\n",
              "      <td>4</td>\n",
              "    </tr>\n",
              "    <tr>\n",
              "      <th>...</th>\n",
              "      <td>...</td>\n",
              "      <td>...</td>\n",
              "      <td>...</td>\n",
              "      <td>...</td>\n",
              "      <td>...</td>\n",
              "      <td>...</td>\n",
              "      <td>...</td>\n",
              "      <td>...</td>\n",
              "      <td>...</td>\n",
              "      <td>...</td>\n",
              "      <td>...</td>\n",
              "      <td>...</td>\n",
              "    </tr>\n",
              "    <tr>\n",
              "      <th>32576</th>\n",
              "      <td>57</td>\n",
              "      <td>53000</td>\n",
              "      <td>MORTGAGE</td>\n",
              "      <td>1.0</td>\n",
              "      <td>PERSONAL</td>\n",
              "      <td>C</td>\n",
              "      <td>5800</td>\n",
              "      <td>13.16</td>\n",
              "      <td>0</td>\n",
              "      <td>0.11</td>\n",
              "      <td>N</td>\n",
              "      <td>30</td>\n",
              "    </tr>\n",
              "    <tr>\n",
              "      <th>32577</th>\n",
              "      <td>54</td>\n",
              "      <td>120000</td>\n",
              "      <td>MORTGAGE</td>\n",
              "      <td>4.0</td>\n",
              "      <td>PERSONAL</td>\n",
              "      <td>A</td>\n",
              "      <td>17625</td>\n",
              "      <td>7.49</td>\n",
              "      <td>0</td>\n",
              "      <td>0.15</td>\n",
              "      <td>N</td>\n",
              "      <td>19</td>\n",
              "    </tr>\n",
              "    <tr>\n",
              "      <th>32578</th>\n",
              "      <td>65</td>\n",
              "      <td>76000</td>\n",
              "      <td>RENT</td>\n",
              "      <td>3.0</td>\n",
              "      <td>HOMEIMPROVEMENT</td>\n",
              "      <td>B</td>\n",
              "      <td>35000</td>\n",
              "      <td>10.99</td>\n",
              "      <td>1</td>\n",
              "      <td>0.46</td>\n",
              "      <td>N</td>\n",
              "      <td>28</td>\n",
              "    </tr>\n",
              "    <tr>\n",
              "      <th>32579</th>\n",
              "      <td>56</td>\n",
              "      <td>150000</td>\n",
              "      <td>MORTGAGE</td>\n",
              "      <td>5.0</td>\n",
              "      <td>PERSONAL</td>\n",
              "      <td>B</td>\n",
              "      <td>15000</td>\n",
              "      <td>11.48</td>\n",
              "      <td>0</td>\n",
              "      <td>0.10</td>\n",
              "      <td>N</td>\n",
              "      <td>26</td>\n",
              "    </tr>\n",
              "    <tr>\n",
              "      <th>32580</th>\n",
              "      <td>66</td>\n",
              "      <td>42000</td>\n",
              "      <td>RENT</td>\n",
              "      <td>2.0</td>\n",
              "      <td>MEDICAL</td>\n",
              "      <td>B</td>\n",
              "      <td>6475</td>\n",
              "      <td>9.99</td>\n",
              "      <td>0</td>\n",
              "      <td>0.15</td>\n",
              "      <td>N</td>\n",
              "      <td>30</td>\n",
              "    </tr>\n",
              "  </tbody>\n",
              "</table>\n",
              "<p>32581 rows × 12 columns</p>\n",
              "</div>\n",
              "      <button class=\"colab-df-convert\" onclick=\"convertToInteractive('df-8d3ac1c2-e024-4bcb-b15e-64bd4f3d6ab7')\"\n",
              "              title=\"Convert this dataframe to an interactive table.\"\n",
              "              style=\"display:none;\">\n",
              "        \n",
              "  <svg xmlns=\"http://www.w3.org/2000/svg\" height=\"24px\"viewBox=\"0 0 24 24\"\n",
              "       width=\"24px\">\n",
              "    <path d=\"M0 0h24v24H0V0z\" fill=\"none\"/>\n",
              "    <path d=\"M18.56 5.44l.94 2.06.94-2.06 2.06-.94-2.06-.94-.94-2.06-.94 2.06-2.06.94zm-11 1L8.5 8.5l.94-2.06 2.06-.94-2.06-.94L8.5 2.5l-.94 2.06-2.06.94zm10 10l.94 2.06.94-2.06 2.06-.94-2.06-.94-.94-2.06-.94 2.06-2.06.94z\"/><path d=\"M17.41 7.96l-1.37-1.37c-.4-.4-.92-.59-1.43-.59-.52 0-1.04.2-1.43.59L10.3 9.45l-7.72 7.72c-.78.78-.78 2.05 0 2.83L4 21.41c.39.39.9.59 1.41.59.51 0 1.02-.2 1.41-.59l7.78-7.78 2.81-2.81c.8-.78.8-2.07 0-2.86zM5.41 20L4 18.59l7.72-7.72 1.47 1.35L5.41 20z\"/>\n",
              "  </svg>\n",
              "      </button>\n",
              "      \n",
              "  <style>\n",
              "    .colab-df-container {\n",
              "      display:flex;\n",
              "      flex-wrap:wrap;\n",
              "      gap: 12px;\n",
              "    }\n",
              "\n",
              "    .colab-df-convert {\n",
              "      background-color: #E8F0FE;\n",
              "      border: none;\n",
              "      border-radius: 50%;\n",
              "      cursor: pointer;\n",
              "      display: none;\n",
              "      fill: #1967D2;\n",
              "      height: 32px;\n",
              "      padding: 0 0 0 0;\n",
              "      width: 32px;\n",
              "    }\n",
              "\n",
              "    .colab-df-convert:hover {\n",
              "      background-color: #E2EBFA;\n",
              "      box-shadow: 0px 1px 2px rgba(60, 64, 67, 0.3), 0px 1px 3px 1px rgba(60, 64, 67, 0.15);\n",
              "      fill: #174EA6;\n",
              "    }\n",
              "\n",
              "    [theme=dark] .colab-df-convert {\n",
              "      background-color: #3B4455;\n",
              "      fill: #D2E3FC;\n",
              "    }\n",
              "\n",
              "    [theme=dark] .colab-df-convert:hover {\n",
              "      background-color: #434B5C;\n",
              "      box-shadow: 0px 1px 3px 1px rgba(0, 0, 0, 0.15);\n",
              "      filter: drop-shadow(0px 1px 2px rgba(0, 0, 0, 0.3));\n",
              "      fill: #FFFFFF;\n",
              "    }\n",
              "  </style>\n",
              "\n",
              "      <script>\n",
              "        const buttonEl =\n",
              "          document.querySelector('#df-8d3ac1c2-e024-4bcb-b15e-64bd4f3d6ab7 button.colab-df-convert');\n",
              "        buttonEl.style.display =\n",
              "          google.colab.kernel.accessAllowed ? 'block' : 'none';\n",
              "\n",
              "        async function convertToInteractive(key) {\n",
              "          const element = document.querySelector('#df-8d3ac1c2-e024-4bcb-b15e-64bd4f3d6ab7');\n",
              "          const dataTable =\n",
              "            await google.colab.kernel.invokeFunction('convertToInteractive',\n",
              "                                                     [key], {});\n",
              "          if (!dataTable) return;\n",
              "\n",
              "          const docLinkHtml = 'Like what you see? Visit the ' +\n",
              "            '<a target=\"_blank\" href=https://colab.research.google.com/notebooks/data_table.ipynb>data table notebook</a>'\n",
              "            + ' to learn more about interactive tables.';\n",
              "          element.innerHTML = '';\n",
              "          dataTable['output_type'] = 'display_data';\n",
              "          await google.colab.output.renderOutput(dataTable, element);\n",
              "          const docLink = document.createElement('div');\n",
              "          docLink.innerHTML = docLinkHtml;\n",
              "          element.appendChild(docLink);\n",
              "        }\n",
              "      </script>\n",
              "    </div>\n",
              "  </div>\n",
              "  "
            ]
          },
          "metadata": {},
          "execution_count": 7
        }
      ]
    },
    {
      "cell_type": "code",
      "source": [
        "# checking for null values (second attempt) and general info of the dataframe\n",
        "df.info()"
      ],
      "metadata": {
        "colab": {
          "base_uri": "https://localhost:8080/"
        },
        "id": "2esTs56miI2n",
        "outputId": "b7234cd4-4f39-4e38-ed24-6577c0389c7e"
      },
      "execution_count": null,
      "outputs": [
        {
          "output_type": "stream",
          "name": "stdout",
          "text": [
            "<class 'pandas.core.frame.DataFrame'>\n",
            "RangeIndex: 32581 entries, 0 to 32580\n",
            "Data columns (total 12 columns):\n",
            " #   Column                      Non-Null Count  Dtype  \n",
            "---  ------                      --------------  -----  \n",
            " 0   person_age                  32581 non-null  int64  \n",
            " 1   person_income               32581 non-null  int64  \n",
            " 2   person_home_ownership       32581 non-null  object \n",
            " 3   person_emp_length           31686 non-null  float64\n",
            " 4   loan_intent                 32581 non-null  object \n",
            " 5   loan_grade                  32581 non-null  object \n",
            " 6   loan_amnt                   32581 non-null  int64  \n",
            " 7   loan_int_rate               29465 non-null  float64\n",
            " 8   loan_status                 32581 non-null  int64  \n",
            " 9   loan_percent_income         32581 non-null  float64\n",
            " 10  cb_person_default_on_file   32581 non-null  object \n",
            " 11  cb_person_cred_hist_length  32581 non-null  int64  \n",
            "dtypes: float64(3), int64(5), object(4)\n",
            "memory usage: 3.0+ MB\n"
          ]
        }
      ]
    },
    {
      "cell_type": "code",
      "source": [
        "# another generic description of the dataset\n",
        "for i in df.columns:\n",
        "  print(f\"Field Name: {i}, Type: {df[i].dtype}, Range: {df[i].min()}-{df[i].max()}\")"
      ],
      "metadata": {
        "colab": {
          "base_uri": "https://localhost:8080/"
        },
        "id": "AbrMYzF2HUkd",
        "outputId": "0ecf92f8-9803-49ba-f5e4-5cd446eaf042"
      },
      "execution_count": null,
      "outputs": [
        {
          "output_type": "stream",
          "name": "stdout",
          "text": [
            "Field Name: person_age, Type: int64, Range: 20-144\n",
            "Field Name: person_income, Type: int64, Range: 4000-6000000\n",
            "Field Name: person_home_ownership, Type: object, Range: MORTGAGE-RENT\n",
            "Field Name: person_emp_length, Type: float64, Range: 0.0-123.0\n",
            "Field Name: loan_intent, Type: object, Range: DEBTCONSOLIDATION-VENTURE\n",
            "Field Name: loan_grade, Type: object, Range: A-G\n",
            "Field Name: loan_amnt, Type: int64, Range: 500-35000\n",
            "Field Name: loan_int_rate, Type: float64, Range: 5.42-23.22\n",
            "Field Name: loan_status, Type: int64, Range: 0-1\n",
            "Field Name: loan_percent_income, Type: float64, Range: 0.0-0.83\n",
            "Field Name: cb_person_default_on_file, Type: object, Range: N-Y\n",
            "Field Name: cb_person_cred_hist_length, Type: int64, Range: 2-30\n"
          ]
        }
      ]
    },
    {
      "cell_type": "markdown",
      "source": [
        "person_age: Age\n",
        "\n",
        "person_income: Annual Income\n",
        "\n",
        "person_home_ownership: Home ownership\n",
        "\n",
        "person_emp_length: Employment length (in years)\n",
        "\n",
        "loan_intent: Loan intent\n",
        "\n",
        "loan_grade: Loan grade\n",
        "\n",
        "loan_amnt: Loan amount\n",
        "\n",
        "loan_int_rate: Interest rate\n",
        "\n",
        "loan_status: Loan status (0 is non default 1 is default)\n",
        "\n",
        "loan_percent_income: Percent income\n",
        "\n",
        "cb_person_default_on_file: Historical default\n",
        "\n",
        "cb_preson_cred_hist_length: Credit history length"
      ],
      "metadata": {
        "id": "wdHPJ5vuIvbh"
      }
    },
    {
      "cell_type": "code",
      "source": [
        "# check distribution of columns with null values\n",
        "sns.histplot(df, x=df[\"person_emp_length\"], kde=True)"
      ],
      "metadata": {
        "colab": {
          "base_uri": "https://localhost:8080/",
          "height": 298
        },
        "id": "aP0kfeoLxt5T",
        "outputId": "b863957d-8a27-4bd0-b60e-f39b80eafef5"
      },
      "execution_count": null,
      "outputs": [
        {
          "output_type": "execute_result",
          "data": {
            "text/plain": [
              "<matplotlib.axes._subplots.AxesSubplot at 0x7f45c55ec640>"
            ]
          },
          "metadata": {},
          "execution_count": 10
        },
        {
          "output_type": "display_data",
          "data": {
            "text/plain": [
              "<Figure size 432x288 with 1 Axes>"
            ],
            "image/png": "[encoded data removed]"
          },
          "metadata": {
            "needs_background": "light"
          }
        }
      ]
    },
    {
      "cell_type": "code",
      "source": [
        "# check distribution of columns with null values\n",
        "sns.histplot(df, x=df[\"loan_int_rate\"], kde=True)"
      ],
      "metadata": {
        "colab": {
          "base_uri": "https://localhost:8080/",
          "height": 301
        },
        "id": "ZUSFtqw_HDeE",
        "outputId": "b1bccd3b-dc27-4fd9-d6ce-acc4cb38b715"
      },
      "execution_count": null,
      "outputs": [
        {
          "output_type": "execute_result",
          "data": {
            "text/plain": [
              "<matplotlib.axes._subplots.AxesSubplot at 0x7f45c03f2370>"
            ]
          },
          "metadata": {},
          "execution_count": 11
        },
        {
          "output_type": "display_data",
          "data": {
            "text/plain": [
              "<Figure size 432x288 with 1 Axes>"
            ],
            "image/png": "[encoded data removed]"
          },
          "metadata": {
            "needs_background": "light"
          }
        }
      ]
    },
    {
      "cell_type": "code",
      "source": [
        "# plotting correlation matrix with target variable\n",
        "plt.figure(figsize=(8, 12))\n",
        "heatmap = sns.heatmap(df.corr()[['loan_status']].sort_values(by='loan_status', ascending=False), vmin=-1, vmax=1, annot=True, cmap='BrBG')\n",
        "heatmap.set_title('Features Correlating with Loan Status', fontdict={'fontsize':18}, pad=16);"
      ],
      "metadata": {
        "colab": {
          "base_uri": "https://localhost:8080/",
          "height": 731
        },
        "id": "R8fhg3mYHyon",
        "outputId": "f44d6ab9-a773-4b46-d192-61409a33a500"
      },
      "execution_count": null,
      "outputs": [
        {
          "output_type": "display_data",
          "data": {
            "text/plain": [
              "<Figure size 576x864 with 2 Axes>"
            ],
            "image/png": "[encoded data removed]"
          },
          "metadata": {
            "needs_background": "light"
          }
        }
      ]
    },
    {
      "cell_type": "code",
      "source": [
        "# Correlation Matrix of all variables\n",
        "plt.figure(figsize=(18, 6))\n",
        "heatmap = sns.heatmap(df.corr(), vmin=-1, vmax=1, annot=True, cmap='BrBG', mask = np.triu(np.ones_like(df.corr(), dtype=bool)))\n",
        "heatmap.set_title('Correlation Heatmap', fontdict={'fontsize':18}, pad=12);"
      ],
      "metadata": {
        "colab": {
          "base_uri": "https://localhost:8080/",
          "height": 528
        },
        "id": "XE10ZuKUIP9A",
        "outputId": "f830c1fa-550f-44cb-d6ed-ecaadb7ba004"
      },
      "execution_count": null,
      "outputs": [
        {
          "output_type": "display_data",
          "data": {
            "text/plain": [
              "<Figure size 1296x432 with 2 Axes>"
            ],
            "image/png": "[encoded data removed]"
          },
          "metadata": {
            "needs_background": "light"
          }
        }
      ]
    },
    {
      "cell_type": "code",
      "source": [
        "# checking distribution of classes and assess imbalance\n",
        "sns.histplot(df['loan_status'])"
      ],
      "metadata": {
        "colab": {
          "base_uri": "https://localhost:8080/",
          "height": 298
        },
        "id": "3f9hH4scKvjT",
        "outputId": "d24c2dc5-b951-4ca2-c652-9e82fca17d32"
      },
      "execution_count": null,
      "outputs": [
        {
          "output_type": "execute_result",
          "data": {
            "text/plain": [
              "<matplotlib.axes._subplots.AxesSubplot at 0x7f45c02e2fd0>"
            ]
          },
          "metadata": {},
          "execution_count": 14
        },
        {
          "output_type": "display_data",
          "data": {
            "text/plain": [
              "<Figure size 432x288 with 1 Axes>"
            ],
            "image/png": "[encoded data removed]"
          },
          "metadata": {
            "needs_background": "light"
          }
        }
      ]
    },
    {
      "cell_type": "code",
      "source": [
        "# plotting boxplots for quantitative variables \n",
        "quant_col = [\"person_age\",\"person_income\",\"person_emp_length\",\"loan_amnt\",\n",
        "             \"loan_int_rate\",\"loan_percent_income\", \"cb_person_cred_hist_length\"]\n",
        "\n",
        "for col in quant_col:\n",
        "  sns.boxplot(data=df, x=\"loan_status\", y=col)\n",
        "  plt.show()"
      ],
      "metadata": {
        "colab": {
          "base_uri": "https://localhost:8080/",
          "height": 1000
        },
        "id": "9bRpNaepK1jI",
        "outputId": "60dd84a4-3270-4482-bc77-3b7e4a665c65"
      },
      "execution_count": null,
      "outputs": [
        {
          "output_type": "display_data",
          "data": {
            "text/plain": [
              "<Figure size 432x288 with 1 Axes>"
            ],
            "image/png": "[encoded data removed]"
          },
          "metadata": {
            "needs_background": "light"
          }
        },
        {
          "output_type": "display_data",
          "data": {
            "text/plain": [
              "<Figure size 432x288 with 1 Axes>"
            ],
            "image/png": "[encoded data removed]"
          },
          "metadata": {
            "needs_background": "light"
          }
        },
        {
          "output_type": "display_data",
          "data": {
            "text/plain": [
              "<Figure size 432x288 with 1 Axes>"
            ],
            "image/png": "[encoded data removed]"
          },
          "metadata": {
            "needs_background": "light"
          }
        },
        {
          "output_type": "display_data",
          "data": {
            "text/plain": [
              "<Figure size 432x288 with 1 Axes>"
            ],
            "image/png": "[encoded data removed]"
          },
          "metadata": {
            "needs_background": "light"
          }
        },
        {
          "output_type": "display_data",
          "data": {
            "text/plain": [
              "<Figure size 432x288 with 1 Axes>"
            ],
            "image/png": "[encoded data removed]"
          },
          "metadata": {
            "needs_background": "light"
          }
        },
        {
          "output_type": "display_data",
          "data": {
            "text/plain": [
              "<Figure size 432x288 with 1 Axes>"
            ],
            "image/png": "[encoded data removed]"
          },
          "metadata": {
            "needs_background": "light"
          }
        },
        {
          "output_type": "display_data",
          "data": {
            "text/plain": [
              "<Figure size 432x288 with 1 Axes>"
            ],
            "image/png": "[encoded data removed]"
          },
          "metadata": {
            "needs_background": "light"
          }
        }
      ]
    },
    {
      "cell_type": "code",
      "source": [
        "# plotting catplot for all categorical variables\n",
        "cat_col = [\"loan_grade\", \"cb_person_default_on_file\", \"loan_intent\", \"person_home_ownership\"]\n",
        "\n",
        "for i in cat_col:\n",
        "  sns.catplot(data=df, x='loan_status', hue=i, kind=\"count\")\n",
        "  plt.show"
      ],
      "metadata": {
        "colab": {
          "base_uri": "https://localhost:8080/",
          "height": 1000
        },
        "id": "b6LspSkEpwsm",
        "outputId": "0e827b09-c2ba-4258-ee84-2cff56e21946"
      },
      "execution_count": null,
      "outputs": [
        {
          "output_type": "display_data",
          "data": {
            "text/plain": [
              "<Figure size 423.5x360 with 1 Axes>"
            ],
            "image/png": "[encoded data removed]"
          },
          "metadata": {
            "needs_background": "light"
          }
        },
        {
          "output_type": "display_data",
          "data": {
            "text/plain": [
              "<Figure size 497.125x360 with 1 Axes>"
            ],
            "image/png": "[encoded data removed]"
          },
          "metadata": {
            "needs_background": "light"
          }
        },
        {
          "output_type": "display_data",
          "data": {
            "text/plain": [
              "<Figure size 504.625x360 with 1 Axes>"
            ],
            "image/png": "[encoded data removed]"
          },
          "metadata": {
            "needs_background": "light"
          }
        },
        {
          "output_type": "display_data",
          "data": {
            "text/plain": [
              "<Figure size 491.75x360 with 1 Axes>"
            ],
            "image/png": "[encoded data removed]"
          },
          "metadata": {
            "needs_background": "light"
          }
        }
      ]
    },
    {
      "cell_type": "code",
      "source": [
        "# checking if quantitative variables are normally distributed\n",
        "import statsmodels.api as sm\n",
        "\n",
        "for i in quant_col:\n",
        "  sm.qqplot(df[i], line='45')\n",
        "  plt.show()"
      ],
      "metadata": {
        "colab": {
          "base_uri": "https://localhost:8080/",
          "height": 1000
        },
        "id": "I7YJT1ydkweO",
        "outputId": "285572fa-16f3-412c-c213-c5e5bdf7ab3c"
      },
      "execution_count": null,
      "outputs": [
        {
          "output_type": "display_data",
          "data": {
            "text/plain": [
              "<Figure size 432x288 with 1 Axes>"
            ],
            "image/png": "[encoded data removed]"
          },
          "metadata": {
            "needs_background": "light"
          }
        },
        {
          "output_type": "display_data",
          "data": {
            "text/plain": [
              "<Figure size 432x288 with 1 Axes>"
            ],
            "image/png": "[encoded data removed]"
          },
          "metadata": {
            "needs_background": "light"
          }
        },
        {
          "output_type": "display_data",
          "data": {
            "text/plain": [
              "<Figure size 432x288 with 1 Axes>"
            ],
            "image/png": "[encoded data removed]"
          },
          "metadata": {
            "needs_background": "light"
          }
        },
        {
          "output_type": "display_data",
          "data": {
            "text/plain": [
              "<Figure size 432x288 with 1 Axes>"
            ],
            "image/png": "[encoded data removed]"
          },
          "metadata": {
            "needs_background": "light"
          }
        },
        {
          "output_type": "display_data",
          "data": {
            "text/plain": [
              "<Figure size 432x288 with 1 Axes>"
            ],
            "image/png": "[encoded data removed]"
          },
          "metadata": {
            "needs_background": "light"
          }
        },
        {
          "output_type": "display_data",
          "data": {
            "text/plain": [
              "<Figure size 432x288 with 1 Axes>"
            ],
            "image/png": "[encoded data removed]"
          },
          "metadata": {
            "needs_background": "light"
          }
        },
        {
          "output_type": "display_data",
          "data": {
            "text/plain": [
              "<Figure size 432x288 with 1 Axes>"
            ],
            "image/png": "[encoded data removed]"
          },
          "metadata": {
            "needs_background": "light"
          }
        }
      ]
    },
    {
      "cell_type": "code",
      "source": [
        "# to be used for larger dataset to cap outliers\n",
        "\n",
        "## Interquartile Method\n",
        "# for x in ['windspeed']:\n",
        "#     q75,q25 = np.percentile(BIKE.loc[:,x],[75,25])\n",
        "#     intr_qr = q75-q25\n",
        " \n",
        "#     max = q75+(1.5*intr_qr)\n",
        "#     min = q25-(1.5*intr_qr)\n",
        " \n",
        "#     df.loc[df[x] < min,x] = np.nan\n",
        "#     df.loc[df[x] > max,x] = np.nan\n",
        "\n",
        "## Mean + 3 Sigma Method\n",
        "# import statistics\n",
        "\n",
        "# def cap_outliers(numbers):\n",
        "#     counter = False\n",
        "#     mean = statistics.mean(numbers)\n",
        "#     std_dev = statistics.stdev(numbers)\n",
        "#     for i in range(len(numbers)):\n",
        "#         if abs(numbers[i] > (mean + 3 * std_dev)):\n",
        "#             numbers[i] = mean + 3 * std_dev\n",
        "#             counter = True\n",
        "#     return numbers, counter\n",
        "\n",
        "# quant_col = [\"person_age\",\"person_income\",\"person_emp_length\",\"loan_amnt\", \"loan_int_rate\",\"loan_percent_income\", \"cb_person_cred_hist_length\"]\n",
        "\n",
        "# for col in quant_col:\n",
        "#   counter = True\n",
        "\n",
        "#   while counter:\n",
        "#     df[col], counter = cap_outliers(df[col])"
      ],
      "metadata": {
        "id": "y_gdxbhg-LqF"
      },
      "execution_count": null,
      "outputs": []
    },
    {
      "cell_type": "code",
      "source": [
        "# treating outliers manually since the features are just a few by replacing them with NaN and then impute\n",
        "# for high dimensional dataset, cap outliers using mean + 3sigma or the Interquartile function defined above are highly encouraged (will try this in the second practice for regression)\n",
        "df['person_age'] = df['person_age'].apply(lambda x: np.nan if x > 100 else x)\n",
        "df['person_income'] = df['person_income'].apply(lambda x: np.nan if x > 3000000 else x)\n",
        "df['person_emp_length'] = df['person_emp_length'].apply(lambda x: np.nan if x > 50 else x)"
      ],
      "metadata": {
        "id": "dRx4msuClK_q"
      },
      "execution_count": null,
      "outputs": []
    },
    {
      "cell_type": "code",
      "source": [
        "# checking for new NaN values in the dataset\n",
        "df.isna().sum()"
      ],
      "metadata": {
        "colab": {
          "base_uri": "https://localhost:8080/"
        },
        "id": "Sghs7J_DrlWF",
        "outputId": "ce8d68c5-7bc1-4684-a41e-9158d473dcb2"
      },
      "execution_count": null,
      "outputs": [
        {
          "output_type": "execute_result",
          "data": {
            "text/plain": [
              "person_age                       5\n",
              "person_income                    1\n",
              "person_home_ownership            0\n",
              "person_emp_length              897\n",
              "loan_intent                      0\n",
              "loan_grade                       0\n",
              "loan_amnt                        0\n",
              "loan_int_rate                 3116\n",
              "loan_status                      0\n",
              "loan_percent_income              0\n",
              "cb_person_default_on_file        0\n",
              "cb_person_cred_hist_length       0\n",
              "dtype: int64"
            ]
          },
          "metadata": {},
          "execution_count": 20
        }
      ]
    },
    {
      "cell_type": "code",
      "source": [
        "# imputation of nan values\n",
        "from sklearn.impute import SimpleImputer\n",
        "\n",
        "imp = SimpleImputer(missing_values=np.nan, strategy='median')\n",
        "\n",
        "df[\"person_age\"] = imp.fit_transform(df[\"person_age\"].values.reshape(-1,1))\n",
        "df[\"person_income\"] = imp.fit_transform(df[\"person_income\"].values.reshape(-1,1))\n",
        "df[\"person_emp_length\"] = imp.fit_transform(df[\"person_emp_length\"].values.reshape(-1,1))\n",
        "df[\"loan_int_rate\"] = imp.fit_transform(df[\"loan_int_rate\"].values.reshape(-1,1))"
      ],
      "metadata": {
        "id": "qvYRlJ4hrnZa"
      },
      "execution_count": null,
      "outputs": []
    },
    {
      "cell_type": "code",
      "source": [
        "# checking for new NaN values in the dataset after imputation\n",
        "df.isna().sum()"
      ],
      "metadata": {
        "colab": {
          "base_uri": "https://localhost:8080/"
        },
        "id": "CrYZRVBTvcll",
        "outputId": "b63b318b-f84f-4092-c51b-a2e5a3c887cb"
      },
      "execution_count": null,
      "outputs": [
        {
          "output_type": "execute_result",
          "data": {
            "text/plain": [
              "person_age                    0\n",
              "person_income                 0\n",
              "person_home_ownership         0\n",
              "person_emp_length             0\n",
              "loan_intent                   0\n",
              "loan_grade                    0\n",
              "loan_amnt                     0\n",
              "loan_int_rate                 0\n",
              "loan_status                   0\n",
              "loan_percent_income           0\n",
              "cb_person_default_on_file     0\n",
              "cb_person_cred_hist_length    0\n",
              "dtype: int64"
            ]
          },
          "metadata": {},
          "execution_count": 22
        }
      ]
    },
    {
      "cell_type": "markdown",
      "source": [
        "**Preprocessing**"
      ],
      "metadata": {
        "id": "l8T3GCEqyhjs"
      }
    },
    {
      "cell_type": "code",
      "source": [
        "cat_col = [\"loan_grade\", \"cb_person_default_on_file\", \"loan_intent\", \"person_home_ownership\"]\n",
        "quant_col = [\"person_age\",\"person_income\",\"person_emp_length\",\"loan_amnt\",\n",
        "             \"loan_int_rate\",\"loan_percent_income\", \"cb_person_cred_hist_length\"]"
      ],
      "metadata": {
        "id": "YZaxOejdxaHM"
      },
      "execution_count": null,
      "outputs": []
    },
    {
      "cell_type": "code",
      "source": [
        "# can use OneHotEncoder or getDummies\n",
        "# define a function for large dataset\n",
        "Grade_Encoded = pd.get_dummies(df['loan_grade'], prefix='col')\n",
        "Default_History_Encoded = pd.get_dummies(df['cb_person_default_on_file'], prefix='col')\n",
        "Intent_Encoded = pd.get_dummies(df['loan_intent'], prefix='col')\n",
        "Home_Own_Encoded = pd.get_dummies(df['person_home_ownership'], prefix='col')"
      ],
      "metadata": {
        "id": "1wgdMZSW0a5d"
      },
      "execution_count": null,
      "outputs": []
    },
    {
      "cell_type": "code",
      "source": [
        "# concatenate encoded variables\n",
        "df = pd.concat([df, Grade_Encoded, Default_History_Encoded, Intent_Encoded, Home_Own_Encoded], axis=1)"
      ],
      "metadata": {
        "id": "mheLVtc4IQas"
      },
      "execution_count": null,
      "outputs": []
    },
    {
      "cell_type": "code",
      "source": [
        "# drop originally categorical variables\n",
        "df = df.drop([\"loan_grade\", \"cb_person_default_on_file\", \"loan_intent\", \"person_home_ownership\"], axis=1)"
      ],
      "metadata": {
        "id": "rPY82yw-LDWn"
      },
      "execution_count": null,
      "outputs": []
    },
    {
      "cell_type": "code",
      "source": [
        "# scaling quantitative variables\n",
        "from sklearn.preprocessing import StandardScaler\n",
        "\n",
        "scaler = StandardScaler()\n",
        "for i in quant_col:\n",
        "  df[i] = scaler.fit_transform(df[i].values.reshape(-1,1))"
      ],
      "metadata": {
        "id": "g40Tzke9MAZB"
      },
      "execution_count": null,
      "outputs": []
    },
    {
      "cell_type": "code",
      "source": [
        "df"
      ],
      "metadata": {
        "colab": {
          "base_uri": "https://localhost:8080/",
          "height": 487
        },
        "id": "7fbunAm9M3RC",
        "outputId": "76e9dded-67b4-4e4b-8d2d-60509874fc3f"
      },
      "execution_count": null,
      "outputs": [
        {
          "output_type": "execute_result",
          "data": {
            "text/plain": [
              "       person_age  person_income  person_emp_length  loan_amnt  loan_int_rate  \\\n",
              "0       -0.921560      -0.131170          -0.191082   4.019404       1.625921   \n",
              "1       -1.082735      -1.071309           0.060114  -1.358650       0.042310   \n",
              "2       -0.438037      -1.071309          -0.944671  -0.646849       0.603713   \n",
              "3       -0.760386      -0.007467          -0.191082   4.019404       1.369558   \n",
              "4       -0.599211      -0.218713           0.813703   4.019404       1.058028   \n",
              "...           ...            ...                ...        ...            ...   \n",
              "32576    4.719548      -0.245357          -0.944671  -0.599395       0.697821   \n",
              "32577    4.236024       1.029730          -0.191082   1.271060      -1.142154   \n",
              "32578    6.008944       0.192360          -0.442278   4.019404      -0.006367   \n",
              "32579    4.558373       1.600664           0.060114   0.855843       0.152643   \n",
              "32580    6.170118      -0.454699          -0.693474  -0.492625      -0.330877   \n",
              "\n",
              "       loan_status  loan_percent_income  cb_person_cred_hist_length  col_A  \\\n",
              "0                1             3.931411                   -0.691554      0   \n",
              "1                0            -0.657458                   -0.938167      0   \n",
              "2                1             3.744110                   -0.691554      0   \n",
              "3                1             3.369508                   -0.938167      0   \n",
              "4                1             3.556809                   -0.444942      0   \n",
              "...            ...                  ...                         ...    ...   \n",
              "32576            0            -0.563808                    5.966992      0   \n",
              "32577            0            -0.189207                    3.254251      1   \n",
              "32578            1             2.713956                    5.473767      0   \n",
              "32579            0            -0.657458                    4.980541      0   \n",
              "32580            0            -0.189207                    5.966992      0   \n",
              "\n",
              "       col_B  ...  col_DEBTCONSOLIDATION  col_EDUCATION  col_HOMEIMPROVEMENT  \\\n",
              "0          0  ...                      0              0                    0   \n",
              "1          1  ...                      0              1                    0   \n",
              "2          0  ...                      0              0                    0   \n",
              "3          0  ...                      0              0                    0   \n",
              "4          0  ...                      0              0                    0   \n",
              "...      ...  ...                    ...            ...                  ...   \n",
              "32576      0  ...                      0              0                    0   \n",
              "32577      0  ...                      0              0                    0   \n",
              "32578      1  ...                      0              0                    1   \n",
              "32579      1  ...                      0              0                    0   \n",
              "32580      1  ...                      0              0                    0   \n",
              "\n",
              "       col_MEDICAL  col_PERSONAL  col_VENTURE  col_MORTGAGE  col_OTHER  \\\n",
              "0                0             1            0             0          0   \n",
              "1                0             0            0             0          0   \n",
              "2                1             0            0             1          0   \n",
              "3                1             0            0             0          0   \n",
              "4                1             0            0             0          0   \n",
              "...            ...           ...          ...           ...        ...   \n",
              "32576            0             1            0             1          0   \n",
              "32577            0             1            0             1          0   \n",
              "32578            0             0            0             0          0   \n",
              "32579            0             1            0             1          0   \n",
              "32580            1             0            0             0          0   \n",
              "\n",
              "       col_OWN  col_RENT  \n",
              "0            0         1  \n",
              "1            1         0  \n",
              "2            0         0  \n",
              "3            0         1  \n",
              "4            0         1  \n",
              "...        ...       ...  \n",
              "32576        0         0  \n",
              "32577        0         0  \n",
              "32578        0         1  \n",
              "32579        0         0  \n",
              "32580        0         1  \n",
              "\n",
              "[32581 rows x 27 columns]"
            ],
            "text/html": [
              "\n",
              "  <div id=\"df-8be64523-7463-48b3-b86d-0e258c89ef08\">\n",
              "    <div class=\"colab-df-container\">\n",
              "      <div>\n",
              "<style scoped>\n",
              "    .dataframe tbody tr th:only-of-type {\n",
              "        vertical-align: middle;\n",
              "    }\n",
              "\n",
              "    .dataframe tbody tr th {\n",
              "        vertical-align: top;\n",
              "    }\n",
              "\n",
              "    .dataframe thead th {\n",
              "        text-align: right;\n",
              "    }\n",
              "</style>\n",
              "<table border=\"1\" class=\"dataframe\">\n",
              "  <thead>\n",
              "    <tr style=\"text-align: right;\">\n",
              "      <th></th>\n",
              "      <th>person_age</th>\n",
              "      <th>person_income</th>\n",
              "      <th>person_emp_length</th>\n",
              "      <th>loan_amnt</th>\n",
              "      <th>loan_int_rate</th>\n",
              "      <th>loan_status</th>\n",
              "      <th>loan_percent_income</th>\n",
              "      <th>cb_person_cred_hist_length</th>\n",
              "      <th>col_A</th>\n",
              "      <th>col_B</th>\n",
              "      <th>...</th>\n",
              "      <th>col_DEBTCONSOLIDATION</th>\n",
              "      <th>col_EDUCATION</th>\n",
              "      <th>col_HOMEIMPROVEMENT</th>\n",
              "      <th>col_MEDICAL</th>\n",
              "      <th>col_PERSONAL</th>\n",
              "      <th>col_VENTURE</th>\n",
              "      <th>col_MORTGAGE</th>\n",
              "      <th>col_OTHER</th>\n",
              "      <th>col_OWN</th>\n",
              "      <th>col_RENT</th>\n",
              "    </tr>\n",
              "  </thead>\n",
              "  <tbody>\n",
              "    <tr>\n",
              "      <th>0</th>\n",
              "      <td>-0.921560</td>\n",
              "      <td>-0.131170</td>\n",
              "      <td>-0.191082</td>\n",
              "      <td>4.019404</td>\n",
              "      <td>1.625921</td>\n",
              "      <td>1</td>\n",
              "      <td>3.931411</td>\n",
              "      <td>-0.691554</td>\n",
              "      <td>0</td>\n",
              "      <td>0</td>\n",
              "      <td>...</td>\n",
              "      <td>0</td>\n",
              "      <td>0</td>\n",
              "      <td>0</td>\n",
              "      <td>0</td>\n",
              "      <td>1</td>\n",
              "      <td>0</td>\n",
              "      <td>0</td>\n",
              "      <td>0</td>\n",
              "      <td>0</td>\n",
              "      <td>1</td>\n",
              "    </tr>\n",
              "    <tr>\n",
              "      <th>1</th>\n",
              "      <td>-1.082735</td>\n",
              "      <td>-1.071309</td>\n",
              "      <td>0.060114</td>\n",
              "      <td>-1.358650</td>\n",
              "      <td>0.042310</td>\n",
              "      <td>0</td>\n",
              "      <td>-0.657458</td>\n",
              "      <td>-0.938167</td>\n",
              "      <td>0</td>\n",
              "      <td>1</td>\n",
              "      <td>...</td>\n",
              "      <td>0</td>\n",
              "      <td>1</td>\n",
              "      <td>0</td>\n",
              "      <td>0</td>\n",
              "      <td>0</td>\n",
              "      <td>0</td>\n",
              "      <td>0</td>\n",
              "      <td>0</td>\n",
              "      <td>1</td>\n",
              "      <td>0</td>\n",
              "    </tr>\n",
              "    <tr>\n",
              "      <th>2</th>\n",
              "      <td>-0.438037</td>\n",
              "      <td>-1.071309</td>\n",
              "      <td>-0.944671</td>\n",
              "      <td>-0.646849</td>\n",
              "      <td>0.603713</td>\n",
              "      <td>1</td>\n",
              "      <td>3.744110</td>\n",
              "      <td>-0.691554</td>\n",
              "      <td>0</td>\n",
              "      <td>0</td>\n",
              "      <td>...</td>\n",
              "      <td>0</td>\n",
              "      <td>0</td>\n",
              "      <td>0</td>\n",
              "      <td>1</td>\n",
              "      <td>0</td>\n",
              "      <td>0</td>\n",
              "      <td>1</td>\n",
              "      <td>0</td>\n",
              "      <td>0</td>\n",
              "      <td>0</td>\n",
              "    </tr>\n",
              "    <tr>\n",
              "      <th>3</th>\n",
              "      <td>-0.760386</td>\n",
              "      <td>-0.007467</td>\n",
              "      <td>-0.191082</td>\n",
              "      <td>4.019404</td>\n",
              "      <td>1.369558</td>\n",
              "      <td>1</td>\n",
              "      <td>3.369508</td>\n",
              "      <td>-0.938167</td>\n",
              "      <td>0</td>\n",
              "      <td>0</td>\n",
              "      <td>...</td>\n",
              "      <td>0</td>\n",
              "      <td>0</td>\n",
              "      <td>0</td>\n",
              "      <td>1</td>\n",
              "      <td>0</td>\n",
              "      <td>0</td>\n",
              "      <td>0</td>\n",
              "      <td>0</td>\n",
              "      <td>0</td>\n",
              "      <td>1</td>\n",
              "    </tr>\n",
              "    <tr>\n",
              "      <th>4</th>\n",
              "      <td>-0.599211</td>\n",
              "      <td>-0.218713</td>\n",
              "      <td>0.813703</td>\n",
              "      <td>4.019404</td>\n",
              "      <td>1.058028</td>\n",
              "      <td>1</td>\n",
              "      <td>3.556809</td>\n",
              "      <td>-0.444942</td>\n",
              "      <td>0</td>\n",
              "      <td>0</td>\n",
              "      <td>...</td>\n",
              "      <td>0</td>\n",
              "      <td>0</td>\n",
              "      <td>0</td>\n",
              "      <td>1</td>\n",
              "      <td>0</td>\n",
              "      <td>0</td>\n",
              "      <td>0</td>\n",
              "      <td>0</td>\n",
              "      <td>0</td>\n",
              "      <td>1</td>\n",
              "    </tr>\n",
              "    <tr>\n",
              "      <th>...</th>\n",
              "      <td>...</td>\n",
              "      <td>...</td>\n",
              "      <td>...</td>\n",
              "      <td>...</td>\n",
              "      <td>...</td>\n",
              "      <td>...</td>\n",
              "      <td>...</td>\n",
              "      <td>...</td>\n",
              "      <td>...</td>\n",
              "      <td>...</td>\n",
              "      <td>...</td>\n",
              "      <td>...</td>\n",
              "      <td>...</td>\n",
              "      <td>...</td>\n",
              "      <td>...</td>\n",
              "      <td>...</td>\n",
              "      <td>...</td>\n",
              "      <td>...</td>\n",
              "      <td>...</td>\n",
              "      <td>...</td>\n",
              "      <td>...</td>\n",
              "    </tr>\n",
              "    <tr>\n",
              "      <th>32576</th>\n",
              "      <td>4.719548</td>\n",
              "      <td>-0.245357</td>\n",
              "      <td>-0.944671</td>\n",
              "      <td>-0.599395</td>\n",
              "      <td>0.697821</td>\n",
              "      <td>0</td>\n",
              "      <td>-0.563808</td>\n",
              "      <td>5.966992</td>\n",
              "      <td>0</td>\n",
              "      <td>0</td>\n",
              "      <td>...</td>\n",
              "      <td>0</td>\n",
              "      <td>0</td>\n",
              "      <td>0</td>\n",
              "      <td>0</td>\n",
              "      <td>1</td>\n",
              "      <td>0</td>\n",
              "      <td>1</td>\n",
              "      <td>0</td>\n",
              "      <td>0</td>\n",
              "      <td>0</td>\n",
              "    </tr>\n",
              "    <tr>\n",
              "      <th>32577</th>\n",
              "      <td>4.236024</td>\n",
              "      <td>1.029730</td>\n",
              "      <td>-0.191082</td>\n",
              "      <td>1.271060</td>\n",
              "      <td>-1.142154</td>\n",
              "      <td>0</td>\n",
              "      <td>-0.189207</td>\n",
              "      <td>3.254251</td>\n",
              "      <td>1</td>\n",
              "      <td>0</td>\n",
              "      <td>...</td>\n",
              "      <td>0</td>\n",
              "      <td>0</td>\n",
              "      <td>0</td>\n",
              "      <td>0</td>\n",
              "      <td>1</td>\n",
              "      <td>0</td>\n",
              "      <td>1</td>\n",
              "      <td>0</td>\n",
              "      <td>0</td>\n",
              "      <td>0</td>\n",
              "    </tr>\n",
              "    <tr>\n",
              "      <th>32578</th>\n",
              "      <td>6.008944</td>\n",
              "      <td>0.192360</td>\n",
              "      <td>-0.442278</td>\n",
              "      <td>4.019404</td>\n",
              "      <td>-0.006367</td>\n",
              "      <td>1</td>\n",
              "      <td>2.713956</td>\n",
              "      <td>5.473767</td>\n",
              "      <td>0</td>\n",
              "      <td>1</td>\n",
              "      <td>...</td>\n",
              "      <td>0</td>\n",
              "      <td>0</td>\n",
              "      <td>1</td>\n",
              "      <td>0</td>\n",
              "      <td>0</td>\n",
              "      <td>0</td>\n",
              "      <td>0</td>\n",
              "      <td>0</td>\n",
              "      <td>0</td>\n",
              "      <td>1</td>\n",
              "    </tr>\n",
              "    <tr>\n",
              "      <th>32579</th>\n",
              "      <td>4.558373</td>\n",
              "      <td>1.600664</td>\n",
              "      <td>0.060114</td>\n",
              "      <td>0.855843</td>\n",
              "      <td>0.152643</td>\n",
              "      <td>0</td>\n",
              "      <td>-0.657458</td>\n",
              "      <td>4.980541</td>\n",
              "      <td>0</td>\n",
              "      <td>1</td>\n",
              "      <td>...</td>\n",
              "      <td>0</td>\n",
              "      <td>0</td>\n",
              "      <td>0</td>\n",
              "      <td>0</td>\n",
              "      <td>1</td>\n",
              "      <td>0</td>\n",
              "      <td>1</td>\n",
              "      <td>0</td>\n",
              "      <td>0</td>\n",
              "      <td>0</td>\n",
              "    </tr>\n",
              "    <tr>\n",
              "      <th>32580</th>\n",
              "      <td>6.170118</td>\n",
              "      <td>-0.454699</td>\n",
              "      <td>-0.693474</td>\n",
              "      <td>-0.492625</td>\n",
              "      <td>-0.330877</td>\n",
              "      <td>0</td>\n",
              "      <td>-0.189207</td>\n",
              "      <td>5.966992</td>\n",
              "      <td>0</td>\n",
              "      <td>1</td>\n",
              "      <td>...</td>\n",
              "      <td>0</td>\n",
              "      <td>0</td>\n",
              "      <td>0</td>\n",
              "      <td>1</td>\n",
              "      <td>0</td>\n",
              "      <td>0</td>\n",
              "      <td>0</td>\n",
              "      <td>0</td>\n",
              "      <td>0</td>\n",
              "      <td>1</td>\n",
              "    </tr>\n",
              "  </tbody>\n",
              "</table>\n",
              "<p>32581 rows × 27 columns</p>\n",
              "</div>\n",
              "      <button class=\"colab-df-convert\" onclick=\"convertToInteractive('df-8be64523-7463-48b3-b86d-0e258c89ef08')\"\n",
              "              title=\"Convert this dataframe to an interactive table.\"\n",
              "              style=\"display:none;\">\n",
              "        \n",
              "  <svg xmlns=\"http://www.w3.org/2000/svg\" height=\"24px\"viewBox=\"0 0 24 24\"\n",
              "       width=\"24px\">\n",
              "    <path d=\"M0 0h24v24H0V0z\" fill=\"none\"/>\n",
              "    <path d=\"M18.56 5.44l.94 2.06.94-2.06 2.06-.94-2.06-.94-.94-2.06-.94 2.06-2.06.94zm-11 1L8.5 8.5l.94-2.06 2.06-.94-2.06-.94L8.5 2.5l-.94 2.06-2.06.94zm10 10l.94 2.06.94-2.06 2.06-.94-2.06-.94-.94-2.06-.94 2.06-2.06.94z\"/><path d=\"M17.41 7.96l-1.37-1.37c-.4-.4-.92-.59-1.43-.59-.52 0-1.04.2-1.43.59L10.3 9.45l-7.72 7.72c-.78.78-.78 2.05 0 2.83L4 21.41c.39.39.9.59 1.41.59.51 0 1.02-.2 1.41-.59l7.78-7.78 2.81-2.81c.8-.78.8-2.07 0-2.86zM5.41 20L4 18.59l7.72-7.72 1.47 1.35L5.41 20z\"/>\n",
              "  </svg>\n",
              "      </button>\n",
              "      \n",
              "  <style>\n",
              "    .colab-df-container {\n",
              "      display:flex;\n",
              "      flex-wrap:wrap;\n",
              "      gap: 12px;\n",
              "    }\n",
              "\n",
              "    .colab-df-convert {\n",
              "      background-color: #E8F0FE;\n",
              "      border: none;\n",
              "      border-radius: 50%;\n",
              "      cursor: pointer;\n",
              "      display: none;\n",
              "      fill: #1967D2;\n",
              "      height: 32px;\n",
              "      padding: 0 0 0 0;\n",
              "      width: 32px;\n",
              "    }\n",
              "\n",
              "    .colab-df-convert:hover {\n",
              "      background-color: #E2EBFA;\n",
              "      box-shadow: 0px 1px 2px rgba(60, 64, 67, 0.3), 0px 1px 3px 1px rgba(60, 64, 67, 0.15);\n",
              "      fill: #174EA6;\n",
              "    }\n",
              "\n",
              "    [theme=dark] .colab-df-convert {\n",
              "      background-color: #3B4455;\n",
              "      fill: #D2E3FC;\n",
              "    }\n",
              "\n",
              "    [theme=dark] .colab-df-convert:hover {\n",
              "      background-color: #434B5C;\n",
              "      box-shadow: 0px 1px 3px 1px rgba(0, 0, 0, 0.15);\n",
              "      filter: drop-shadow(0px 1px 2px rgba(0, 0, 0, 0.3));\n",
              "      fill: #FFFFFF;\n",
              "    }\n",
              "  </style>\n",
              "\n",
              "      <script>\n",
              "        const buttonEl =\n",
              "          document.querySelector('#df-8be64523-7463-48b3-b86d-0e258c89ef08 button.colab-df-convert');\n",
              "        buttonEl.style.display =\n",
              "          google.colab.kernel.accessAllowed ? 'block' : 'none';\n",
              "\n",
              "        async function convertToInteractive(key) {\n",
              "          const element = document.querySelector('#df-8be64523-7463-48b3-b86d-0e258c89ef08');\n",
              "          const dataTable =\n",
              "            await google.colab.kernel.invokeFunction('convertToInteractive',\n",
              "                                                     [key], {});\n",
              "          if (!dataTable) return;\n",
              "\n",
              "          const docLinkHtml = 'Like what you see? Visit the ' +\n",
              "            '<a target=\"_blank\" href=https://colab.research.google.com/notebooks/data_table.ipynb>data table notebook</a>'\n",
              "            + ' to learn more about interactive tables.';\n",
              "          element.innerHTML = '';\n",
              "          dataTable['output_type'] = 'display_data';\n",
              "          await google.colab.output.renderOutput(dataTable, element);\n",
              "          const docLink = document.createElement('div');\n",
              "          docLink.innerHTML = docLinkHtml;\n",
              "          element.appendChild(docLink);\n",
              "        }\n",
              "      </script>\n",
              "    </div>\n",
              "  </div>\n",
              "  "
            ]
          },
          "metadata": {},
          "execution_count": 28
        }
      ]
    },
    {
      "cell_type": "markdown",
      "source": [
        "**Train - Test Split**"
      ],
      "metadata": {
        "id": "UQa3bw4sDV48"
      }
    },
    {
      "cell_type": "code",
      "source": [
        "# assigning variables to X & Y\n",
        "y=df['loan_status']\n",
        "X=df.loc[:, df.columns !=\"loan_status\"]"
      ],
      "metadata": {
        "id": "JGCROeU1M4Jo"
      },
      "execution_count": null,
      "outputs": []
    },
    {
      "cell_type": "code",
      "source": [
        "# train test split on dataset\n",
        "X_train, X_test, y_train, y_test = train_test_split(X, y, test_size = 0.2, random_state = 42)\n",
        "\n",
        "print(f\"Shape of X_train dataset: {X_train.shape}\")\n",
        "print(f\"Shape of y_train dataset: {y_train.shape}\")\n",
        "print(f\"Shape of X_test dataset: {X_test.shape}\")\n",
        "print(f\"Shape of y_test dataset: {y_test.shape}\")"
      ],
      "metadata": {
        "colab": {
          "base_uri": "https://localhost:8080/"
        },
        "id": "z7Dsh4iNRN9J",
        "outputId": "0a627c51-a971-408b-843e-e88763e7d575"
      },
      "execution_count": null,
      "outputs": [
        {
          "output_type": "stream",
          "name": "stdout",
          "text": [
            "Shape of X_train dataset: (26064, 26)\n",
            "Shape of y_train dataset: (26064,)\n",
            "Shape of X_test dataset: (6517, 26)\n",
            "Shape of y_test dataset: (6517,)\n"
          ]
        }
      ]
    },
    {
      "cell_type": "markdown",
      "source": [
        "**Oversampling to take care of Class Imbalance**"
      ],
      "metadata": {
        "id": "murLjdl-yYIF"
      }
    },
    {
      "cell_type": "code",
      "source": [
        "# oversampling using SMOTE to treat imbalance\n",
        "# Alternatives include: SMOTETomek, NearMiss, & Class Weights\n",
        "from imblearn.over_sampling import SMOTE\n",
        "sm = SMOTE(random_state = 21)\n",
        "X_resampled, y_resampled = sm.fit_resample(X_train, y_train)\n",
        "\n",
        "print(f\"Shape of X_resampled dataset: {X_resampled.shape}\")\n",
        "print(f\"Shape of y_resampled dataset: {y_resampled.shape}\")"
      ],
      "metadata": {
        "colab": {
          "base_uri": "https://localhost:8080/"
        },
        "id": "x815kkbaRdmg",
        "outputId": "f0dc460f-7dae-432d-e2bf-3966ba2cd6c7"
      },
      "execution_count": null,
      "outputs": [
        {
          "output_type": "stream",
          "name": "stdout",
          "text": [
            "Shape of X_resampled dataset: (40802, 26)\n",
            "Shape of y_resampled dataset: (40802,)\n"
          ]
        }
      ]
    },
    {
      "cell_type": "markdown",
      "source": [
        "**Model Estimation and Evaluation**\n",
        "\n",
        "*Logistic Regression*\n",
        "\n",
        "*Random Forest*"
      ],
      "metadata": {
        "id": "J45R5x7CR5ng"
      }
    },
    {
      "cell_type": "markdown",
      "source": [
        "**Logistic Regression with Oversampled Data**"
      ],
      "metadata": {
        "id": "kzQ-EnXKET3O"
      }
    },
    {
      "cell_type": "code",
      "source": [
        "# Logistic Regression\n",
        "from sklearn.linear_model import LogisticRegression\n",
        "from sklearn.model_selection import GridSearchCV\n",
        "from sklearn import metrics\n",
        "# from sklearn.model_selection import KFold\n",
        "\n",
        "# model1 = LogisticRegression(penalty='elasticnet',solver='saga',max_iter=4000, random_state=42)\n",
        "\n",
        "# params_lr = {\"C\": [0.01, 0.1, 1, 10, 100],\n",
        "#              \"l1_ratio\": [0.15,0.35,0.55,0.75,0.95]}\n",
        "\n",
        "# Optimize the parameters for Logistic Regression using GridSearch with CV\n",
        "# clf = GridSearchCV(model1,\n",
        "#                    param_grid=params_lr,\n",
        "#                    scoring='accuracy',\n",
        "#                    cv=5,\n",
        "#                    verbose=3)\n",
        "\n",
        "# clf.fit(X_resampled,y_resampled)\n",
        "\n",
        "# print(\"Tuned Hyperparameters :\", clf.best_params_)\n",
        "# print(\"Accuracy :\",clf.best_score_)"
      ],
      "metadata": {
        "id": "vvoIO95gRvm-"
      },
      "execution_count": null,
      "outputs": []
    },
    {
      "cell_type": "code",
      "source": [
        "# using the best model parameters from GridSearch Opt. to evaluate model\n",
        "best_model1 = LogisticRegression(C=10, \n",
        "                                 penalty ='elasticnet',\n",
        "                                 l1_ratio=0.35,\n",
        "                                 solver='saga',\n",
        "                                 max_iter=4000,\n",
        "                                 random_state=42)\n",
        "\n",
        "best_model1.fit(X_resampled,y_resampled)\n",
        "\n",
        "# predicting the target with this model\n",
        "y_pred = best_model1.predict(X_test)\n",
        "\n",
        "# printing the model metrics\n",
        "print(f\"Accuracy: {metrics.accuracy_score(y_test, y_pred)}\")\n",
        "print(f\"Precision: {metrics.precision_score(y_test, y_pred)}\")\n",
        "print(f\"The F1_Score for this model is: {metrics.f1_score(y_true=y_test, y_pred=y_pred, average='binary')}\")"
      ],
      "metadata": {
        "colab": {
          "base_uri": "https://localhost:8080/"
        },
        "id": "gDBZZlS9X62c",
        "outputId": "5110ca19-3dc5-40be-f87a-eb4ecda45b70"
      },
      "execution_count": null,
      "outputs": [
        {
          "output_type": "stream",
          "name": "stdout",
          "text": [
            "Accuracy: 0.8289090072119073\n",
            "Precision: 0.5910596026490066\n",
            "The F1_Score for this model is: 0.6576604237027939\n"
          ]
        }
      ]
    },
    {
      "cell_type": "markdown",
      "source": [
        "**LR with Class Weights**"
      ],
      "metadata": {
        "id": "8OkC_3Zd8ruk"
      }
    },
    {
      "cell_type": "code",
      "source": [
        "from sklearn.linear_model import LogisticRegression\n",
        "from sklearn.model_selection import GridSearchCV\n",
        "# from sklearn.model_selection import KFold\n",
        "\n",
        "# NB: LR with class weights is ran on original dataset split (X_train & Y_train) but with a new argument class_weight=balanced\n",
        "\n",
        "# model1 = LogisticRegression(class_weight='balanced', penalty='elasticnet',solver='saga',max_iter=4000, random_state=42)\n",
        "\n",
        "# params_lr = {\"C\": [0.01, 0.1, 1, 10, 100],\n",
        "#              \"l1_ratio\": [0.15,0.35,0.55,0.75,0.95]}\n",
        "\n",
        "# Optimize the parameters for Logistic Regression using GridSearch with CV\n",
        "# clf = GridSearchCV(model1,\n",
        "#                    param_grid=params_lr,\n",
        "#                    scoring='accuracy',\n",
        "#                    cv=5,\n",
        "#                    verbose=3)\n",
        "\n",
        "# clf.fit(X_train,y_train)\n",
        "\n",
        "# print(\"Tuned Hyperparameters :\", clf.best_params_)\n",
        "# print(\"Accuracy :\",clf.best_score_)"
      ],
      "metadata": {
        "id": "f-jE8vZD8vZd"
      },
      "execution_count": null,
      "outputs": []
    },
    {
      "cell_type": "code",
      "source": [
        "# using the best model parameters from GridSearch Opt. to evaluate model\n",
        "best_model1 = LogisticRegression(C=10,\n",
        "                                 penalty ='elasticnet',\n",
        "                                 l1_ratio=0.15,\n",
        "                                 class_weight='balanced',\n",
        "                                 solver='saga',\n",
        "                                 max_iter=4000,\n",
        "                                 random_state=42)\n",
        "\n",
        "best_model1.fit(X_train,y_train)\n",
        "\n",
        "# predicting the target with this model\n",
        "y_pred = best_model1.predict(X_test)\n",
        "\n",
        "# printing the model metrics\n",
        "print(\"Accuracy:\",metrics.accuracy_score(y_test, y_pred))\n",
        "print(\"Precision:\",metrics.precision_score(y_test, y_pred))\n",
        "print(f\"The F1_Score for this model is: {metrics.f1_score(y_true=y_test, y_pred=y_pred, average='binary')}\")"
      ],
      "metadata": {
        "colab": {
          "base_uri": "https://localhost:8080/"
        },
        "id": "yxaCYSsc8tz6",
        "outputId": "3038e77e-d2aa-4091-9bc3-eab63cbd5b3b"
      },
      "execution_count": null,
      "outputs": [
        {
          "output_type": "stream",
          "name": "stdout",
          "text": [
            "Accuracy: 0.8129507442074574\n",
            "Precision: 0.5558300395256917\n",
            "The F1_Score for this model is: 0.6486019025655809\n"
          ]
        }
      ]
    },
    {
      "cell_type": "markdown",
      "source": [
        "**RF with Oversampled Data**"
      ],
      "metadata": {
        "id": "VlJ0ofcLqtTc"
      }
    },
    {
      "cell_type": "code",
      "source": [
        "# Random Forest\n",
        "from sklearn.ensemble import RandomForestClassifier\n",
        "from sklearn.model_selection import GridSearchCV\n",
        "\n",
        "# model2= RandomForestClassifier(random_state=42)\n",
        "\n",
        "# params_rf = { \n",
        "#     'n_estimators': range(20, 100, 20),\n",
        "#     'max_features': ['auto', 'sqrt', 'log2'],\n",
        "#     'max_depth' : range(1,15,5),\n",
        "#     'criterion' :['gini', 'entropy']\n",
        "#     }\n",
        "\n",
        "# Optimize the parameters for Random Forest using GridSearch with CV\n",
        "# rfgrid = GridSearchCV(model2,\n",
        "#                       param_grid=params_rf, \n",
        "#                       scoring='accuracy',\n",
        "#                       cv= 5,\n",
        "#                       verbose=3)\n",
        "\n",
        "# rfgrid.fit(X_resampled, y_resampled)\n",
        "\n",
        "# print(\"Tuned Hyperparameters :\", rfgrid.best_params_)\n",
        "# print(\"Accuracy :\",rfgrid.best_score_)"
      ],
      "metadata": {
        "id": "xvVjNnIRcISy"
      },
      "execution_count": null,
      "outputs": []
    },
    {
      "cell_type": "code",
      "source": [
        "# using the best model parameters from GridSearch Opt. to evaluate model\n",
        "best_model2 = RandomForestClassifier(criterion='gini',max_depth=11,max_features='log2', n_estimators=80)\n",
        "\n",
        "best_model2.fit(X_resampled,y_resampled)\n",
        "\n",
        "# predicting the target with this model\n",
        "y_pred = best_model2.predict(X_test)\n",
        "\n",
        "# printing the model metrics\n",
        "print(\"Accuracy:\",metrics.accuracy_score(y_test, y_pred))\n",
        "print(\"Precision:\",metrics.precision_score(y_test, y_pred))\n",
        "print(f\"The F1_Score for this model is: {metrics.f1_score(y_true=y_test, y_pred=y_pred, average='binary')}\")"
      ],
      "metadata": {
        "colab": {
          "base_uri": "https://localhost:8080/"
        },
        "id": "qY9XQPW9pw_d",
        "outputId": "7c6be0b1-c80a-4701-8077-a0ced132bf79"
      },
      "execution_count": null,
      "outputs": [
        {
          "output_type": "stream",
          "name": "stdout",
          "text": [
            "Accuracy: 0.9102347705999693\n",
            "Precision: 0.8302611367127496\n",
            "The F1_Score for this model is: 0.7870404077175099\n"
          ]
        }
      ]
    },
    {
      "cell_type": "markdown",
      "source": [
        "**RF with Class Weights**"
      ],
      "metadata": {
        "id": "mcCxqrxhqzUU"
      }
    },
    {
      "cell_type": "code",
      "source": [
        "from sklearn.ensemble import RandomForestClassifier\n",
        "from sklearn.model_selection import GridSearchCV\n",
        "\n",
        "# NB: RF with class weights is ran on original dataset split (X_train & Y_train) but with a new argument class_weight=balanced\n",
        "# model2= RandomForestClassifier(class_weight='balanced', random_state=42)\n",
        "\n",
        "# params_rf = { \n",
        "#     'n_estimators': range(20, 100, 20),\n",
        "#     'max_features': ['auto', 'sqrt', 'log2'],\n",
        "#     'max_depth' : range(1,15,5),\n",
        "#     'criterion' :['gini', 'entropy']\n",
        "#     }\n",
        "\n",
        "# rfgrid = GridSearchCV(model2,\n",
        "#                       param_grid=params_rf, \n",
        "#                       scoring='accuracy',\n",
        "#                       cv= 5,\n",
        "#                       verbose=3)\n",
        "\n",
        "# rfgrid.fit(X_train, y_train)\n",
        "\n",
        "# print(\"Tuned Hyperparameters :\", rfgrid.best_params_)\n",
        "# print(\"Accuracy :\",rfgrid.best_score_)"
      ],
      "metadata": {
        "id": "E94XBBjFqF1y"
      },
      "execution_count": null,
      "outputs": []
    },
    {
      "cell_type": "code",
      "source": [
        "# using the best model parameters from GridSearch Opt. to evaluate model\n",
        "best_model2 = RandomForestClassifier(class_weight='balanced',\n",
        "                                     criterion='gini',\n",
        "                                     max_depth=11,\n",
        "                                     max_features='auto',\n",
        "                                     n_estimators=60,\n",
        "                                     random_state=42)\n",
        "\n",
        "best_model2.fit(X_train,y_train)\n",
        "\n",
        "# predicting the target with this model\n",
        "y_pred = best_model2.predict(X_test)\n",
        "\n",
        "# printing the model metrics\n",
        "print(\"Accuracy:\",metrics.accuracy_score(y_test, y_pred))\n",
        "print(\"Precision:\",metrics.precision_score(y_test, y_pred))\n",
        "print(f\"The F1_Score for this model is: {metrics.f1_score(y_true=y_test, y_pred=y_pred, average='binary')}\")"
      ],
      "metadata": {
        "colab": {
          "base_uri": "https://localhost:8080/"
        },
        "id": "nvsB0iBjq5jP",
        "outputId": "67cd8bfc-2dca-439f-8b34-a5e1291600f4"
      },
      "execution_count": null,
      "outputs": [
        {
          "output_type": "stream",
          "name": "stdout",
          "text": [
            "Accuracy: 0.917446677919288\n",
            "Precision: 0.8732510288065843\n",
            "The F1_Score for this model is: 0.7977443609022558\n"
          ]
        }
      ]
    },
    {
      "cell_type": "code",
      "source": [
        "(pd.Series(best_model2.feature_importances_, index=X_train.columns).nlargest(10).plot(kind='barh'))  "
      ],
      "metadata": {
        "colab": {
          "base_uri": "https://localhost:8080/",
          "height": 283
        },
        "id": "N3-MbIXRcqqx",
        "outputId": "755de642-45fd-40df-d901-92bc808bc30a"
      },
      "execution_count": null,
      "outputs": [
        {
          "output_type": "execute_result",
          "data": {
            "text/plain": [
              "<matplotlib.axes._subplots.AxesSubplot at 0x7f45b6461970>"
            ]
          },
          "metadata": {},
          "execution_count": 40
        },
        {
          "output_type": "display_data",
          "data": {
            "text/plain": [
              "<Figure size 432x288 with 1 Axes>"
            ],
            "image/png": "[encoded data removed]"
          },
          "metadata": {
            "needs_background": "light"
          }
        }
      ]
    },
    {
      "cell_type": "code",
      "source": [
        "import shap\n",
        "\n",
        "X_importance = X_test\n",
        "\n",
        "# Explain model predictions using shap library:\n",
        "explainer = shap.TreeExplainer(best_model2)\n",
        "shap_values = explainer.shap_values(X_importance)"
      ],
      "metadata": {
        "id": "JJReu0g4dFPo"
      },
      "execution_count": null,
      "outputs": []
    },
    {
      "cell_type": "code",
      "source": [
        "shap.summary_plot(shap_values, X_importance)"
      ],
      "metadata": {
        "colab": {
          "base_uri": "https://localhost:8080/",
          "height": 693
        },
        "id": "nVd7TCZ50Uhv",
        "outputId": "e73e1773-8262-4af3-8248-acb3b1e7b8a4"
      },
      "execution_count": null,
      "outputs": [
        {
          "output_type": "display_data",
          "data": {
            "text/plain": [
              "<Figure size 576x684 with 1 Axes>"
            ],
            "image/png": "[encoded data removed]"
          },
          "metadata": {
            "needs_background": "light"
          }
        }
      ]
    },
    {
      "cell_type": "code",
      "source": [],
      "metadata": {
        "id": "_Mr9M7ZV0U3c"
      },
      "execution_count": null,
      "outputs": []
    }
  ]
}